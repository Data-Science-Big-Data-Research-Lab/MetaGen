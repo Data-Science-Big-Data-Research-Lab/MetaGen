{
 "cells": [
  {
   "attachments": {},
   "cell_type": "markdown",
   "metadata": {
    "collapsed": false
   },
   "source": [
    "<h1 style=\"text-align: center;\">Developing use case [DUC]: Developing a metaheuristic with MetaGen</h1>\n",
    "\n"
   ]
  },
  {
   "attachments": {},
   "cell_type": "markdown",
   "metadata": {
    "collapsed": false
   },
   "source": [
    "The random search algorithm generates a search space with a specific number of potential solutions, then alters these potential solutions a specified number of times. The potential solution with the lowest fitness function value after each iteration is considered the global solution of the random search."
   ]
  },
  {
   "attachments": {},
   "cell_type": "markdown",
   "metadata": {
    "collapsed": false
   },
   "source": [
    "The Domain and Solution classes are required, so they are imported from the `metagen.framework` package.\n",
    "\n",
    "Finally, the `Callable` and `List` classes are imported for typing management, and the `deepcopy` method from the standard copy package is used to preserve a consistent copy of the global solution for each iteration."
   ]
  },
  {
   "cell_type": "code",
   "execution_count": null,
   "metadata": {},
   "outputs": [],
   "source": [
    "%pip install pymetagen-datalabupo"
   ]
  },
  {
   "cell_type": "code",
   "execution_count": 1,
   "metadata": {
    "collapsed": false
   },
   "outputs": [],
   "source": [
    "from copy import deepcopy\n",
    "from typing import Callable, List\n",
    "\n",
    "from metagen.framework import Domain, Solution"
   ]
  },
  {
   "attachments": {},
   "cell_type": "markdown",
   "metadata": {
    "collapsed": false
   },
   "source": [
    "### Prototype\n",
    "The `RandomSearch` metaheuristic function takes as input a problem definition, which is composed of a `Domain` object and a fitness function that takes a `Solution` object as input and returns a `float`.\n",
    "\n",
    "The method also has two arguments to control the metaheuristic, the search space size (default set to `30`) and the number of iterations (default set to `20`). The search space size controls the number of potential solutions generated, and the iterations determine the number of times the search space will be altered.\n",
    "\n",
    "The result of an `RandomSearch` run will be a `Solution` object that assigns the variables of the `Domain` object in a way that optimizes the function. In order to encapsulate all these characteristics, a `RandomSearch` class is defined.\n",
    "\n",
    "<br/><br/>\n",
    "\n",
    "```\n",
    "class RandomSearch:\n",
    "\n",
    "    def __init__(self, domain: Domain, fitness: Callable[[Solution], float], search_space_size: int = 30,\n",
    "                 iterations: int = 20) -> None:\n",
    "\n",
    "        self.domain = domain\n",
    "        self.fitness = fitness\n",
    "        self.search_space_size = search_space_size\n",
    "        self.iterations = iterations\n",
    "```"
   ]
  },
  {
   "attachments": {},
   "cell_type": "markdown",
   "metadata": {
    "collapsed": false
   },
   "source": [
    "### Search space building\n",
    "\n",
    "The first step of the method involves constructing the search space, which consists of `search_space_size`potential solutions or `Solution` objects.\n",
    "\n",
    "Each new potential solution is randomly generated using the `Solution`'s `init` method, which creates a `Solution` object from a `Domain`.\n",
    "\n",
    "The newly created `Solution` is then evaluated using the `evaluate` method passing the `fitness` function, and all the potential solutions are stored in a `List` of `Solution`. A copy of the `Solution` with the minimum function value is also kept.\n",
    "\n",
    "<br/><br/>\n",
    "\n",
    "```\n",
    "def run(self) -> Solution:\n",
    "\n",
    "\n",
    "    search_space: List[Solution] = list()\n",
    "\n",
    "    for _ in range(0, search_space_size):\n",
    "        initial_solution:Solution = Solution()\n",
    "        initial_solution.evaluate(self.fitness)\n",
    "        search_space.append(initial_solution)\n",
    "\n",
    "    global_solution: Solution = deepcopy(min(search_space))\n",
    "```"
   ]
  },
  {
   "attachments": {},
   "cell_type": "markdown",
   "metadata": {
    "collapsed": false
   },
   "source": [
    "### Altering the search space\n",
    "\n",
    "The final step involves modifying the potential solutions in the search space over `iteration` iterations. Each `Solution` is modified using the `mutate` method, which modifies the variable values of a `Solution` while taking into account the `Domain`.\n",
    "\n",
    "The method randomly selects a variable in the `Solution` to modify and changes its value randomly while also respecting the `Domain`. If the modified `Solution` is better than the current global solution, the latter is updated with a copy of the former.\n",
    "\n",
    "Finally, the `global_solution` is returned.\n",
    "\n",
    "<br/><br/>\n",
    "\n",
    "```\n",
    "    for _ in range(0, iterations):\n",
    "        for ps in search_space:\n",
    "            ps.mutate()\n",
    "            ps.evaluate(self.fitness)\n",
    "            if ps < solution:\n",
    "                global_solution = deepcopy(ps)\n",
    "    return global_solution\n",
    " ```"
   ]
  },
  {
   "cell_type": "code",
   "execution_count": 2,
   "metadata": {
    "collapsed": false
   },
   "outputs": [],
   "source": [
    "class RandomSearch:\n",
    "\n",
    "    def __init__(self, domain: Domain, fitness: Callable[[Solution], float], search_space_size: int = 30,\n",
    "                 iterations: int = 20) -> None:\n",
    "\n",
    "        self.domain = domain\n",
    "        self.fitness = fitness\n",
    "        self.search_space_size = search_space_size\n",
    "        self.iterations = iterations\n",
    "\n",
    "    def run(self) -> Solution:\n",
    "        search_space: List[Solution] = list()\n",
    "\n",
    "        for _ in range(0, self.search_space_size):\n",
    "            initial_solution:Solution = Solution()\n",
    "            initial_solution.evaluate(self.fitness)\n",
    "            search_space.append(initial_solution)\n",
    "\n",
    "        global_solution: Solution = deepcopy(min(search_space))\n",
    "\n",
    "        for _ in range(0, self.iterations):\n",
    "            for ps in search_space:\n",
    "                ps.mutate()\n",
    "                ps.evaluate(self.fitness)\n",
    "                if ps < global_solution:\n",
    "                    global_solution = deepcopy(ps)\n",
    "\n",
    "        return global_solution"
   ]
  }
 ],
 "metadata": {
  "kernelspec": {
   "display_name": "Python 3",
   "language": "python",
   "name": "python3"
  },
  "language_info": {
   "codemirror_mode": {
    "name": "ipython",
    "version": 3
   },
   "file_extension": ".py",
   "mimetype": "text/x-python",
   "name": "python",
   "nbconvert_exporter": "python",
   "pygments_lexer": "ipython3",
   "version": "3.10.9"
  }
 },
 "nbformat": 4,
 "nbformat_minor": 0
}
