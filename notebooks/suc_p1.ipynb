{
 "cells": [
  {
   "attachments": {},
   "cell_type": "markdown",
   "metadata": {
    "collapsed": false
   },
   "source": []
  },
  {
   "attachments": {},
   "cell_type": "markdown",
   "metadata": {
    "collapsed": false
   },
   "source": [
    "<h1 style=\"text-align: center;\">Solving use case [SUC]: Solving a problem with MetaGen</h1>"
   ]
  },
  {
   "attachments": {},
   "cell_type": "markdown",
   "metadata": {
    "collapsed": false
   },
   "source": [
    "# $P_1$ problem\n",
    "Domain:\n",
    "$$x \\models Def^{I} = \\langle 5, 10\\rangle$$\n",
    "\n",
    "Fitness function:\n",
    "$$x+5$$"
   ]
  },
  {
   "cell_type": "code",
   "execution_count": null,
   "metadata": {},
   "outputs": [],
   "source": [
    "%pip install pymetagen-datalabupo"
   ]
  },
  {
   "cell_type": "code",
   "execution_count": 1,
   "metadata": {
    "collapsed": false
   },
   "outputs": [],
   "source": [
    "from metagen.framework import Domain, Solution\n",
    "from metagen.metaheuristics import RandomSearch"
   ]
  },
  {
   "attachments": {},
   "cell_type": "markdown",
   "metadata": {
    "collapsed": false
   },
   "source": [
    "To define the mathematical problem $P_1$, a Domain object must be created for each problem. In the case of $P_1$, a $INTEGER $ variable in the range $[5, 10]$ must be defined. This is done using the define_integer method, which takes the variable name and the minimum and maximum values it can take as its arguments"
   ]
  },
  {
   "cell_type": "code",
   "execution_count": 2,
   "metadata": {
    "collapsed": false
   },
   "outputs": [],
   "source": [
    "p1_domain: Domain = Domain()\n",
    "p1_domain.define_integer(\"x\", -10, 10)"
   ]
  },
  {
   "attachments": {},
   "cell_type": "markdown",
   "metadata": {},
   "source": [
    "We can see the definitions in our domain by printing it."
   ]
  },
  {
   "cell_type": "code",
   "execution_count": 3,
   "metadata": {},
   "outputs": [
    {
     "data": {
      "text/plain": [
       "[DEF]\n",
       "\tx: [INTEGER] {Minimum = -10, Maximum = 10, Step = None}"
      ]
     },
     "execution_count": 3,
     "metadata": {},
     "output_type": "execute_result"
    }
   ],
   "source": [
    "p1_domain"
   ]
  },
  {
   "attachments": {},
   "cell_type": "markdown",
   "metadata": {
    "collapsed": false
   },
   "source": [
    "The next step is to implement the optimization function. This function takes one argument, a `Solution` object, and returns a `float` value representing how well this potential solution fits the function.\n",
    "\n",
    "In the case of $P_1$, the function returns the value of the $x$ variable plus 5; to obtain the value of $x$, simply call access it by bracket `Python` operator with the variable name as an input argument."
   ]
  },
  {
   "cell_type": "code",
   "execution_count": 4,
   "metadata": {
    "collapsed": false
   },
   "outputs": [],
   "source": [
    "def p1_fitness(solution: Solution) -> float:\n",
    "    x = solution[\"x\"] # You could use the .get function alternatively.\n",
    "    return x + 5"
   ]
  },
  {
   "attachments": {},
   "cell_type": "markdown",
   "metadata": {
    "collapsed": false
   },
   "source": [
    "Finally, a `RandomSearch ` metaheuristic object is built with the `p1_domain` (a `Domain` object) and the `p1_fitness` function."
   ]
  },
  {
   "cell_type": "code",
   "execution_count": 5,
   "metadata": {
    "collapsed": false
   },
   "outputs": [],
   "source": [
    "random_search: RandomSearch = RandomSearch(p1_domain, p1_fitness)"
   ]
  },
  {
   "attachments": {},
   "cell_type": "markdown",
   "metadata": {},
   "source": [
    "To solve the problem and obtain a `Solution` object, just call the `run` method."
   ]
  },
  {
   "cell_type": "code",
   "execution_count": 6,
   "metadata": {},
   "outputs": [
    {
     "name": "stdout",
     "output_type": "stream",
     "text": [
      "[INTEGER] {Minimum = -10, Maximum = 10, Step = None}\n",
      "x\n",
      "[INTEGER] {Minimum = -10, Maximum = 10, Step = None}\n",
      "x\n",
      "[INTEGER] {Minimum = -10, Maximum = 10, Step = None}\n",
      "x\n",
      "[INTEGER] {Minimum = -10, Maximum = 10, Step = None}\n",
      "x\n",
      "[INTEGER] {Minimum = -10, Maximum = 10, Step = None}\n",
      "x\n",
      "[INTEGER] {Minimum = -10, Maximum = 10, Step = None}\n",
      "x\n",
      "[INTEGER] {Minimum = -10, Maximum = 10, Step = None}\n",
      "x\n",
      "[INTEGER] {Minimum = -10, Maximum = 10, Step = None}\n",
      "x\n",
      "[INTEGER] {Minimum = -10, Maximum = 10, Step = None}\n",
      "x\n",
      "[INTEGER] {Minimum = -10, Maximum = 10, Step = None}\n",
      "x\n",
      "[INTEGER] {Minimum = -10, Maximum = 10, Step = None}\n",
      "x\n",
      "[INTEGER] {Minimum = -10, Maximum = 10, Step = None}\n",
      "x\n",
      "[INTEGER] {Minimum = -10, Maximum = 10, Step = None}\n",
      "x\n",
      "[INTEGER] {Minimum = -10, Maximum = 10, Step = None}\n",
      "x\n",
      "[INTEGER] {Minimum = -10, Maximum = 10, Step = None}\n",
      "x\n",
      "[INTEGER] {Minimum = -10, Maximum = 10, Step = None}\n",
      "x\n",
      "[INTEGER] {Minimum = -10, Maximum = 10, Step = None}\n",
      "x\n",
      "[INTEGER] {Minimum = -10, Maximum = 10, Step = None}\n",
      "x\n",
      "[INTEGER] {Minimum = -10, Maximum = 10, Step = None}\n",
      "x\n",
      "[INTEGER] {Minimum = -10, Maximum = 10, Step = None}\n",
      "x\n",
      "[INTEGER] {Minimum = -10, Maximum = 10, Step = None}\n",
      "x\n",
      "[INTEGER] {Minimum = -10, Maximum = 10, Step = None}\n",
      "x\n",
      "[INTEGER] {Minimum = -10, Maximum = 10, Step = None}\n",
      "x\n",
      "[INTEGER] {Minimum = -10, Maximum = 10, Step = None}\n",
      "x\n",
      "[INTEGER] {Minimum = -10, Maximum = 10, Step = None}\n",
      "x\n",
      "[INTEGER] {Minimum = -10, Maximum = 10, Step = None}\n",
      "x\n",
      "[INTEGER] {Minimum = -10, Maximum = 10, Step = None}\n",
      "x\n",
      "[INTEGER] {Minimum = -10, Maximum = 10, Step = None}\n",
      "x\n",
      "[INTEGER] {Minimum = -10, Maximum = 10, Step = None}\n",
      "x\n",
      "[INTEGER] {Minimum = -10, Maximum = 10, Step = None}\n",
      "x\n"
     ]
    }
   ],
   "source": [
    "p1_solution: Solution = random_search.run()"
   ]
  },
  {
   "attachments": {},
   "cell_type": "markdown",
   "metadata": {
    "collapsed": false
   },
   "source": [
    "Finally, the `p1_solution` is printed."
   ]
  },
  {
   "cell_type": "code",
   "execution_count": 7,
   "metadata": {
    "collapsed": false
   },
   "outputs": [
    {
     "name": "stdout",
     "output_type": "stream",
     "text": [
      "F = -5\t{x = -10}\n"
     ]
    }
   ],
   "source": [
    "print(p1_solution)"
   ]
  }
 ],
 "metadata": {
  "kernelspec": {
   "display_name": "Python 3",
   "language": "python",
   "name": "python3"
  },
  "language_info": {
   "codemirror_mode": {
    "name": "ipython",
    "version": 3
   },
   "file_extension": ".py",
   "mimetype": "text/x-python",
   "name": "python",
   "nbconvert_exporter": "python",
   "pygments_lexer": "ipython3",
   "version": "3.10.9"
  }
 },
 "nbformat": 4,
 "nbformat_minor": 0
}
