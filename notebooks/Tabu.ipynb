{
 "cells": [
  {
   "metadata": {
    "ExecuteTime": {
     "end_time": "2024-12-17T10:18:12.740114Z",
     "start_time": "2024-12-17T10:18:12.734625Z"
    }
   },
   "cell_type": "code",
   "source": [
    "# REMOVE THIS \n",
    "import sys\n",
    "sys.path.insert(0, \"/Users/josftm/Library/CloudStorage/OneDrive-UniversidadPablodeOlavidedeSevilla/2. INVESTIGACION/2. PROYECTOS/MetaGEN/src\")  # Cambia esta ruta a donde está tu código"
   ],
   "id": "c521601b956747cf",
   "outputs": [],
   "execution_count": 1
  },
  {
   "metadata": {
    "ExecuteTime": {
     "end_time": "2024-12-17T10:18:13.066527Z",
     "start_time": "2024-12-17T10:18:13.042432Z"
    }
   },
   "cell_type": "code",
   "source": [
    "import random\n",
    "from metagen.framework import Domain, Solution\n",
    "from metagen.metaheuristics import TabuSearch"
   ],
   "id": "588911bd8905bcec",
   "outputs": [],
   "execution_count": 2
  },
  {
   "cell_type": "code",
   "id": "initial_id",
   "metadata": {
    "collapsed": true,
    "ExecuteTime": {
     "end_time": "2024-12-17T10:18:13.500667Z",
     "start_time": "2024-12-17T10:18:13.468342Z"
    }
   },
   "source": [
    "\n",
    "# P1 legacy_domain\n",
    "p1_domain: Domain = Domain()\n",
    "p1_domain.define_integer(\"x\", -10, 10)\n",
    "\n",
    "# P1 fitness function\n",
    "def p1_fitness(solution: Solution) -> float:\n",
    "    x = solution[\"x\"]  # You could use the .get function alternatively.\n",
    "    return x + 5\n",
    "\n",
    "# Configurar la metaheurística Búsqueda Tabú\n",
    "tabu_search = TabuSearch(domain=p1_domain, fitness_func=p1_fitness, max_iterations=100, tabu_size=5, alteration_limit=2)\n",
    "\n",
    "# Ejecutar la optimización\n",
    "best_solution = tabu_search.run()\n",
    "\n",
    "# Mostrar la mejor solución encontrada\n",
    "print(\"Mejor solución encontrada:\", best_solution.values)\n",
    "print(\"Mejor aptitud (fitness):\", best_solution.fitness)"
   ],
   "outputs": [
    {
     "name": "stdout",
     "output_type": "stream",
     "text": [
      "Mejor solución encontrada: <bound method Solution.values of F = -5\t{x = -10}>\n",
      "Mejor aptitud (fitness): -5\n"
     ]
    }
   ],
   "execution_count": 3
  },
  {
   "metadata": {},
   "cell_type": "code",
   "outputs": [],
   "execution_count": null,
   "source": "",
   "id": "dbabd5d3c62cf7a2"
  }
 ],
 "metadata": {
  "kernelspec": {
   "display_name": "Python 3",
   "language": "python",
   "name": "python3"
  },
  "language_info": {
   "codemirror_mode": {
    "name": "ipython",
    "version": 2
   },
   "file_extension": ".py",
   "mimetype": "text/x-python",
   "name": "python",
   "nbconvert_exporter": "python",
   "pygments_lexer": "ipython2",
   "version": "2.7.6"
  }
 },
 "nbformat": 4,
 "nbformat_minor": 5
}
