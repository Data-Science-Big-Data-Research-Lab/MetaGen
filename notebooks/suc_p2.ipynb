{
 "cells": [
  {
   "attachments": {},
   "cell_type": "markdown",
   "metadata": {
    "collapsed": false
   },
   "source": []
  },
  {
   "attachments": {},
   "cell_type": "markdown",
   "metadata": {
    "collapsed": false
   },
   "source": [
    "<h1 style=\"text-align: center;\">Solving use case [SUC]: Solving a problem with MetaGen</h1>"
   ]
  },
  {
   "attachments": {},
   "cell_type": "markdown",
   "metadata": {
    "collapsed": false
   },
   "source": [
    "# $P_2$ problem\n",
    "Domain:\n",
    "$$x \\models Def^{R} = \\langle 0.0, 1.0\\rangle$$\n",
    "\n",
    "Fitness function:\n",
    "$$x^2$$"
   ]
  },
  {
   "cell_type": "code",
   "execution_count": null,
   "metadata": {},
   "outputs": [],
   "source": [
    "%pip install pymetagen-datalabupo"
   ]
  },
  {
   "cell_type": "code",
   "execution_count": 1,
   "metadata": {
    "collapsed": false
   },
   "outputs": [],
   "source": [
    "from metagen.framework import Domain, Solution\n",
    "from metagen.metaheuristics import RandomSearch"
   ]
  },
  {
   "attachments": {},
   "cell_type": "markdown",
   "metadata": {
    "collapsed": false
   },
   "source": [
    "To define the mathematical problem $P_2$, a `Domain` object must be created for each problem. In the case of $P_2$, a $REAL$ variable in the range $[0.0, 1.0]$ must be defined. This is done using the `define_real` method, which takes the variable name and the minimum and maximum values it can take as its arguments."
   ]
  },
  {
   "cell_type": "code",
   "execution_count": 2,
   "metadata": {
    "collapsed": false
   },
   "outputs": [],
   "source": [
    "p2_domain = Domain()\n",
    "p2_domain.define_real(\"x\", 0.0, 1.0)"
   ]
  },
  {
   "cell_type": "markdown",
   "metadata": {
    "collapsed": false
   },
   "source": [
    "We can see the definitions in our domain by printing it."
   ]
  },
  {
   "cell_type": "code",
   "execution_count": null,
   "metadata": {
    "collapsed": false
   },
   "outputs": [],
   "source": [
    "p2_domain"
   ]
  },
  {
   "attachments": {},
   "cell_type": "markdown",
   "metadata": {
    "collapsed": false
   },
   "source": [
    "The next step is to implement the optimization function. This function takes one argument, a `Solution` object, and returns a `float` value representing how well this potential solution fits the function.\n",
    "\n",
    "In the case of $P_2$, the function returns the value of the square of the $x$ variable; to obtain the value of $x$, simply call access it by bracket `Python` operator with the variable name as an input argument."
   ]
  },
  {
   "cell_type": "code",
   "execution_count": 3,
   "metadata": {
    "collapsed": false
   },
   "outputs": [],
   "source": [
    "def p2_fitness(solution: Solution):\n",
    "    x = solution[\"x\"] # You could use the .get function alternatively.\n",
    "    return pow(x, 2)"
   ]
  },
  {
   "attachments": {},
   "cell_type": "markdown",
   "metadata": {
    "collapsed": false
   },
   "source": [
    "Finally, a `RandomSearch ` metaheuristic object is built with the `p2_domain` (a `Domain` object) and the `p2_fitness` function."
   ]
  },
  {
   "cell_type": "code",
   "execution_count": 4,
   "metadata": {
    "collapsed": false
   },
   "outputs": [],
   "source": [
    "random_search: RandomSearch = RandomSearch(p2_domain, p2_fitness)"
   ]
  },
  {
   "attachments": {},
   "cell_type": "markdown",
   "metadata": {},
   "source": [
    "To solve the problem and obtain a `Solution` object, just call the `run` method."
   ]
  },
  {
   "cell_type": "code",
   "execution_count": 5,
   "metadata": {},
   "outputs": [],
   "source": [
    "p2_solution: Solution = random_search.run()"
   ]
  },
  {
   "attachments": {},
   "cell_type": "markdown",
   "metadata": {
    "collapsed": false
   },
   "source": [
    "Finally, the `p2_solution` is printed."
   ]
  },
  {
   "cell_type": "code",
   "execution_count": 6,
   "metadata": {
    "collapsed": false
   },
   "outputs": [
    {
     "name": "stdout",
     "output_type": "stream",
     "text": [
      "F = 2.711433889463973e-07\t{x = 0.0005207143064545061}\n"
     ]
    }
   ],
   "source": [
    "print(p2_solution)"
   ]
  },
  {
   "cell_type": "code",
   "execution_count": null,
   "metadata": {},
   "outputs": [],
   "source": []
  }
 ],
 "metadata": {
  "kernelspec": {
   "display_name": "Python 3",
   "language": "python",
   "name": "python3"
  },
  "language_info": {
   "codemirror_mode": {
    "name": "ipython",
    "version": 3
   },
   "file_extension": ".py",
   "mimetype": "text/x-python",
   "name": "python",
   "nbconvert_exporter": "python",
   "pygments_lexer": "ipython3",
   "version": "3.10.9"
  }
 },
 "nbformat": 4,
 "nbformat_minor": 0
}
