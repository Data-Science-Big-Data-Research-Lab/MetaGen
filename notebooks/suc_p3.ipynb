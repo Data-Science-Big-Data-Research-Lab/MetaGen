{
 "cells": [
  {
   "attachments": {},
   "cell_type": "markdown",
   "metadata": {
    "collapsed": false
   },
   "source": []
  },
  {
   "attachments": {},
   "cell_type": "markdown",
   "metadata": {
    "collapsed": false
   },
   "source": [
    "<h1 style=\"text-align: center;\">Solving use case [SUC]: Solving a problem with MetaGen</h1>"
   ]
  },
  {
   "attachments": {},
   "cell_type": "markdown",
   "metadata": {
    "collapsed": false
   },
   "source": [
    "# $P_3$ problem\n",
    "Domain:\n",
    "$$Alpha \\models Def^{R} = \\langle 0.0001, 0.001\\rangle \\\\ Iterations \\models Def^{I} = \\langle 5, 200\\rangle \\\\ Loss \\models Def^{C} = \\{squared\\:error, huber, epsilon\\:insensitive\\}$$\n",
    "\n",
    "Fitness function:\n",
    "$$Regression(Alpha, Iterations, Loss)$$"
   ]
  },
  {
   "attachments": {},
   "cell_type": "markdown",
   "metadata": {
    "collapsed": false
   },
   "source": [
    "This is a typical machine learning regression problem. The goal is to find the hyperparameters that build the best model for a training set."
   ]
  },
  {
   "cell_type": "code",
   "execution_count": null,
   "metadata": {},
   "outputs": [],
   "source": [
    "%pip install pymetagen-datalabupo"
   ]
  },
  {
   "cell_type": "code",
   "execution_count": 1,
   "metadata": {
    "collapsed": false
   },
   "outputs": [],
   "source": [
    "from metagen.framework import Domain, Solution\n",
    "from metagen.metaheuristics import RandomSearch\n",
    "import warnings"
   ]
  },
  {
   "attachments": {},
   "cell_type": "markdown",
   "metadata": {
    "collapsed": false
   },
   "source": [
    "To do this, the `Domain` object is constructed by defining a variable for each parameter to optimize. In this case, and following the $P_3$ specifications, three variables are defined:\n",
    "\n",
    "a $REAL$ variable called `alpha`, with values in the range of $[0.0001, 0.001]$, is defined using the `define_real` method, and an $INTEGER$ variable called `iterations`, with values in the range of $[5, 200]$, is defined using the `define_integer` method. Additionally, a $CATEGORICAL$ variable is defined using the `define_categorical` method, with the name `loss` and a list of unique values including `squared_error`, `huber`, and `epsilon_insensitive`."
   ]
  },
  {
   "cell_type": "code",
   "execution_count": 2,
   "metadata": {
    "collapsed": false
   },
   "outputs": [],
   "source": [
    "p3_domain = Domain()\n",
    "p3_domain.define_real(\"alpha\", 0.0001, 0.001)\n",
    "p3_domain.define_integer(\"iterations\", 5, 200)\n",
    "p3_domain.define_categorical(\"loss\", [\"squared_error\", \"huber\", \"epsilon_insensitive\"])"
   ]
  },
  {
   "attachments": {},
   "cell_type": "markdown",
   "metadata": {
    "collapsed": false
   },
   "source": [
    "The fitness function must then construct a regression model using the training dataset and the hyperparameters of the potential solution. In this case, the sklearn package is used for the machine learning operations.\n",
    "\n",
    "A synthetic training dataset with $1000$ instances and $4$ features is generated using the `make_regression` method from the `sklearn.datasets` package, and it is loaded into two variables, the inputs `X` and the expected outputs `y`."
   ]
  },
  {
   "cell_type": "code",
   "execution_count": 3,
   "metadata": {
    "collapsed": false
   },
   "outputs": [],
   "source": [
    "from sklearn.datasets import make_regression\n",
    "\n",
    "X, y = make_regression(n_samples=1000, n_features=4)"
   ]
  },
  {
   "attachments": {},
   "cell_type": "markdown",
   "metadata": {
    "collapsed": false
   },
   "source": [
    "The function `p3_fitness` is defined with a `Solution` object as an input parameter. The values of `loss`, `iterations`, and the hyperparameter `alpha` are obtained through the bracket `Python` operator.\n",
    "\n",
    "A regression model using stochastic gradient descent is constructed using the `SGDRegressor` class from the `sklearn.linear_model` package and the obtained values. Cross-validation training is performed using the `cross_val_score` function from the `sklearn.model_selection` package by passing the configured model and the training dataset (`X` and `y`). The cross-validation process is set to return the negative value of the mean absolute percentage error (`mape`), which is specified in the scoring argument.\n",
    "\n",
    "To find the solution with the least error (i.e., the smallest `mape`), the resulting `mape` value must be multiplied by $-1$."
   ]
  },
  {
   "cell_type": "code",
   "execution_count": 14,
   "metadata": {
    "collapsed": false
   },
   "outputs": [],
   "source": [
    "from sklearn.linear_model import SGDRegressor\n",
    "from sklearn.model_selection import cross_val_score\n",
    "\n",
    "def p3_fitness(solution: Solution):\n",
    "    loss = solution[\"loss\"] # In this case, we get the builtin by getting the value property.\n",
    "    iterations = solution[\"iterations\"]\n",
    "    alpha = solution[\"alpha\"] \n",
    "    model = SGDRegressor(loss=loss, alpha=alpha, max_iter=iterations)\n",
    "    mape = cross_val_score(model, X, y, scoring=\"neg_mean_absolute_percentage_error\").mean()*-1\n",
    "    return mape"
   ]
  },
  {
   "attachments": {},
   "cell_type": "markdown",
   "metadata": {
    "collapsed": false
   },
   "source": [
    "To conclude, the `p3_domain` and `p3_fitness` elements are passed to the `RandomSearch` metaheuristic, obtaining a hyperparameter solution for this problem by calling the `run` method."
   ]
  },
  {
   "cell_type": "code",
   "execution_count": 15,
   "metadata": {
    "collapsed": false,
    "pycharm": {
     "is_executing": true
    }
   },
   "outputs": [],
   "source": [
    "warnings.filterwarnings('ignore')\n",
    "p3_solution: Solution = RandomSearch(p3_domain, p3_fitness).run()"
   ]
  },
  {
   "attachments": {},
   "cell_type": "markdown",
   "metadata": {
    "collapsed": false
   },
   "source": [
    "Finally, the `p3_solution` is printed."
   ]
  },
  {
   "cell_type": "code",
   "execution_count": 17,
   "metadata": {
    "collapsed": false
   },
   "outputs": [
    {
     "name": "stdout",
     "output_type": "stream",
     "text": [
      "F = 0.00012244731769811752\t{alpha = 0.0001004509347751957 , iterations = 136 , loss = squared_error}\n"
     ]
    }
   ],
   "source": [
    "print(p3_solution)"
   ]
  }
 ],
 "metadata": {
  "kernelspec": {
   "display_name": "Python 3",
   "language": "python",
   "name": "python3"
  },
  "language_info": {
   "codemirror_mode": {
    "name": "ipython",
    "version": 3
   },
   "file_extension": ".py",
   "mimetype": "text/x-python",
   "name": "python",
   "nbconvert_exporter": "python",
   "pygments_lexer": "ipython3",
   "version": "3.10.9"
  }
 },
 "nbformat": 4,
 "nbformat_minor": 0
}
