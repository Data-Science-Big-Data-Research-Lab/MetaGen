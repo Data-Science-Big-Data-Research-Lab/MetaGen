{
 "cells": [
  {
   "attachments": {},
   "cell_type": "markdown",
   "metadata": {
    "collapsed": false
   },
   "source": []
  },
  {
   "attachments": {},
   "cell_type": "markdown",
   "metadata": {
    "collapsed": false
   },
   "source": [
    "<h1 style=\"text-align: center;\">Solving use case [SUC]: Solving a problem with MetaGen</h1>"
   ]
  },
  {
   "attachments": {},
   "cell_type": "markdown",
   "metadata": {
    "collapsed": false
   },
   "source": [
    "# $P_4$ problem\n",
    "Domain:\n",
    "$$Learning\\;rate \\models Def^{R} = \\langle 0.0, 0.000001\\rangle \\\\ Ema \\models Def^{C} = \\{True, False\\} \\\\ Arch \\models Def^{D} = \\langle 2,10,\\,Def^{G} = \\{Neurons \\models Def^{I} = \\langle 25, 300\\rangle, Activation \\models Def^{C} = \\{relu, sigmoid, softmax, tanh\\}, Dropout \\models Def^{R} = \\langle 0.0, 0.45\\rangle\\}\\rangle$$\n",
    "\n",
    "Fitness function:\n",
    "$$LSTM(Learning\\;rate, Ema, Arch)$$"
   ]
  },
  {
   "attachments": {},
   "cell_type": "markdown",
   "metadata": {
    "collapsed": false
   },
   "source": [
    "This problem aims to find the best neural network architecture and hyperparameters for a regression model based on specific data."
   ]
  },
  {
   "cell_type": "code",
   "execution_count": null,
   "metadata": {},
   "outputs": [],
   "source": [
    "%pip install pymetagen-datalabupo"
   ]
  },
  {
   "cell_type": "code",
   "execution_count": 1,
   "metadata": {
    "collapsed": false
   },
   "outputs": [],
   "source": [
    "from metagen.framework import Domain, Solution\n",
    "from metagen.metaheuristics import RandomSearch"
   ]
  },
  {
   "attachments": {},
   "cell_type": "markdown",
   "metadata": {
    "collapsed": false
   },
   "source": [
    "In accordance with the domain description of $P_4$, two general variables are defined: the $REAL$ variable `learning_rate`, defined with the `define_real` method, which falls in the interval $[0.0, 0.000001]$, and the $CATEGORICAL$ variable `ema`, which can take either `True` or `False` as defined by the `define_categorical` method. These two variables control the optimization algorithm in the neural network training process.\n",
    "\n",
    "The architecture of the network is controlled by the `arch` variable, defined with the `define_dynamic_structure` method and having a size that varies between $2$ and $10$. The type of the `arch`'s components is defined as $GROUP$ with the `define_group` method and is named `layer`. Then, each element of the `layer` variable is defined as follows: first, the $INTEGER$ element `neurons`, which falls in the interval $[25, 300]$, is defined with the `define_integer_in_group`. Similarly, the $CATEGORICAL$ element `activation` is defined with the `define_categorical_in_group` method and can take the values `relu`, `sigmoid`, `softmax`, or `tanh`. And, the $REAL$ element `dropout`, which falls in the interval $[0.0, 0.45]$, is defined with the `define_real_in_group` method. Finally, the $GROUP$ variable `layer` is linked to the `arch` $DYNAMIC$ structure by means of the `set_structure_to_variable` method."
   ]
  },
  {
   "cell_type": "code",
   "execution_count": 2,
   "metadata": {
    "collapsed": false
   },
   "outputs": [],
   "source": [
    "p4_domain = Domain()\n",
    "p4_domain.define_real(\"learning_rate\", 0.0, 0.000001)\n",
    "p4_domain.define_categorical(\"ema\", [True, False])\n",
    "p4_domain.define_dynamic_structure(\"arch\", 2, 10)\n",
    "p4_domain.define_group(\"layer\")\n",
    "p4_domain.define_integer_in_group(\"layer\", \"neurons\", 25, 300)\n",
    "p4_domain.define_categorical_in_group(\"layer\", \"activation\", [\"relu\", \"sigmoid\", \"softmax\", \"tanh\"])\n",
    "p4_domain.define_real_in_group(\"layer\", \"dropout\", 0.0, 0.45)\n",
    "p4_domain.set_structure_to_variable(\"arch\", \"layer\")"
   ]
  },
  {
   "attachments": {},
   "cell_type": "markdown",
   "metadata": {
    "collapsed": false
   },
   "source": [
    "The fitness function must perform three main tasks: build the neural network architecture, train the network with the target dataset, and evaluate the model with new instances. The function returns the mean absolute percentage error ($MAPE$) of the evaluation as its result. The neural network model with the lowest $MAPE$ will be considered the best."
   ]
  },
  {
   "attachments": {},
   "cell_type": "markdown",
   "metadata": {
    "collapsed": false
   },
   "source": [
    "According to the first task, the function `build_neural_network` builds the neural network architecture taking into account the hyperparameters controlled by `Solution` and using the `tensorflow and keras packages`.\n",
    "\n",
    "Firstly, the base `tensorflow model` is built with the `Sequential` class, then the `LSTM` layers are added in a loop.\n",
    "\n",
    "To do so, the $DYNAMIC$ variable `arch` is gone through by means of a `for` loop as a `Python` `list`; in this case, `enumerate` function is used to get an `i` index of each loop. Then, for each component of the `arch` variable, the `neurons`, `activation`, and `dropout` values are retrieved using the bracket `Python` operator passing the variable of the $GROUP$ (`layer`). An `LSTM` layer with the `neurons` and `activation` parameters, together with a `Dropout` layer with the `dropout` parameter, are added to the model on each iteration.\n",
    "\n",
    "Finally, a `Dense` layer is added to obtain the desired output. The model is compiled using the `Adam` optimizer with the `learning_rate` and `ema` values obtained from the `Solution` object by using the bracket `Python` operator.\n",
    "\n",
    "Finally, the function returns the neural network."
   ]
  },
  {
   "attachments": {},
   "cell_type": "markdown",
   "metadata": {
    "collapsed": false
   },
   "source": [
    "MAC OSX note: the GPU optimization must be disabled since the tensorflow-metal plugin currently does not support exponential moving average (EMA)"
   ]
  },
  {
   "cell_type": "code",
   "execution_count": 3,
   "metadata": {
    "collapsed": false
   },
   "outputs": [],
   "source": [
    "import tensorflow as tf\n",
    "tf.config.set_visible_devices([], \"GPU\")"
   ]
  },
  {
   "cell_type": "code",
   "execution_count": 4,
   "metadata": {
    "collapsed": false
   },
   "outputs": [],
   "source": [
    "def build_neural_network(solution: Solution) -> tf.keras.Sequential():\n",
    "    # Architecture building\n",
    "    model = tf.keras.Sequential()\n",
    "\n",
    "    for i, layer in enumerate(solution[\"arch\"]):\n",
    "        neurons = layer[\"neurons\"]\n",
    "        activation = layer[\"activation\"]\n",
    "        dropout = layer[\"dropout\"]\n",
    "        rs = True\n",
    "        if i == len(solution[\"arch\"]):\n",
    "            rs = False\n",
    "        model.add(tf.keras.layers.LSTM(neurons, activation=activation, return_sequences=rs))\n",
    "        model.add(tf.keras.layers.Dropout(dropout))\n",
    "    model.add(tf.keras.layers.Dense(1, activation=\"tanh\"))\n",
    "    # Model compilation\n",
    "    learning_rate = solution[\"learning_rate\"]\n",
    "    ema = solution[\"ema\"].value\n",
    "    model.compile(optimizer=tf.keras.optimizers.Adam(learning_rate=learning_rate, use_ema=ema),\n",
    "                  loss=\"mean_squared_error\", metrics=[tf.keras.metrics.MAPE])\n",
    "    return model"
   ]
  },
  {
   "attachments": {},
   "cell_type": "markdown",
   "metadata": {
    "collapsed": false
   },
   "source": [
    "Prior to coding the fitness function, the dataset is generated using the make_regression method from the sklearn package and then normalized to improve the training process for the neural network. The dataset is then split into two groups: one for training and one for validating the model."
   ]
  },
  {
   "cell_type": "code",
   "execution_count": 5,
   "metadata": {
    "collapsed": false
   },
   "outputs": [],
   "source": [
    "from sklearn.datasets import make_regression\n",
    "from sklearn.preprocessing import StandardScaler\n",
    "from sklearn.model_selection import train_test_split\n",
    "import numpy as np\n",
    "\n",
    "scaler_x = StandardScaler()\n",
    "scaler_y = StandardScaler()\n",
    "\n",
    "x, y = make_regression(n_samples=1000, n_features=24)\n",
    "\n",
    "xs_train, xs_val, ys_train, ys_val = train_test_split(\n",
    "    x, y, test_size=0.33, random_state=42)\n",
    "\n",
    "xs_train = scaler_x.fit_transform(xs_train)\n",
    "ys_train = scaler_y.fit_transform(ys_train)\n",
    "xs_val = scaler_x.transform(xs_val)\n",
    "ys_val = scaler_y.transform(ys_val)"
   ]
  },
  {
   "attachments": {},
   "cell_type": "markdown",
   "metadata": {
    "collapsed": false
   },
   "source": [
    "After generating the dataset, it must be reshaped from a two-dimensional array to a three-dimensional array to meet the specifications of the `tensorflow` `LSTM` class. This is achieved using the `numpy` `reshape` method."
   ]
  },
  {
   "cell_type": "code",
   "execution_count": 6,
   "metadata": {
    "collapsed": false
   },
   "outputs": [],
   "source": [
    "x_train = np.reshape(xs_train, (xs_train.shape[0], xs_train.shape[1], 1))\n",
    "y_train = np.reshape(ys_train, (ys_train.shape[0], 1))\n",
    "x_val = np.reshape(xs_val, (xs_val.shape[0], xs_val.shape[1], 1))\n",
    "y_val = np.reshape(ys_val, (ys_val.shape[0], 1))"
   ]
  },
  {
   "attachments": {},
   "cell_type": "markdown",
   "metadata": {
    "collapsed": false
   },
   "source": [
    "The fitness function calls the `build_neural_network` method to obtain the architecture, fits the model with the training dataset, and evaluates the resulting model using the validation dataset. The evaluation step returns the $MAPE$ value, which is then returned by the fitness function."
   ]
  },
  {
   "cell_type": "code",
   "execution_count": 7,
   "metadata": {
    "collapsed": false
   },
   "outputs": [],
   "source": [
    "def p4_fitness(solution: Solution) -> float:\n",
    "    model = build_neural_network(solution)\n",
    "    model.fit(x_train, y_train, epochs=10, batch_size=1024)\n",
    "    mape = model.evaluate(x_val, y_val)[1]\n",
    "    return mape"
   ]
  },
  {
   "attachments": {},
   "cell_type": "markdown",
   "metadata": {
    "collapsed": false
   },
   "source": [
    "To summarize, the `p4_domain` and `p4_fitness` elements are passed to the `RandomSearch` metaheuristic, obtaining a hyperparameter solution for this problem by calling the `run` method."
   ]
  },
  {
   "cell_type": "code",
   "execution_count": 8,
   "metadata": {
    "collapsed": false
   },
   "outputs": [
    {
     "name": "stdout",
     "output_type": "stream",
     "text": [
      "Epoch 1/10\n",
      "1/1 [==============================] - 13s 13s/step - loss: 43845.1367 - mean_absolute_percentage_error: 100.0010\n",
      "Epoch 2/10\n",
      "1/1 [==============================] - 1s 946ms/step - loss: 43845.1523 - mean_absolute_percentage_error: 100.0004\n",
      "Epoch 3/10\n",
      "1/1 [==============================] - 1s 926ms/step - loss: 43845.1406 - mean_absolute_percentage_error: 100.0008\n",
      "Epoch 4/10\n",
      "1/1 [==============================] - 1s 876ms/step - loss: 43845.1211 - mean_absolute_percentage_error: 100.0012\n",
      "Epoch 5/10\n",
      "1/1 [==============================] - 1s 919ms/step - loss: 43845.1367 - mean_absolute_percentage_error: 100.0000\n",
      "Epoch 6/10\n",
      "1/1 [==============================] - 1s 980ms/step - loss: 43845.1445 - mean_absolute_percentage_error: 100.0010\n",
      "Epoch 7/10\n",
      "1/1 [==============================] - 1s 980ms/step - loss: 43845.1445 - mean_absolute_percentage_error: 100.0010\n",
      "Epoch 8/10\n",
      "1/1 [==============================] - 1s 952ms/step - loss: 43845.1680 - mean_absolute_percentage_error: 100.0009\n",
      "Epoch 9/10\n",
      "1/1 [==============================] - 1s 951ms/step - loss: 43845.1328 - mean_absolute_percentage_error: 100.0006\n",
      "Epoch 10/10\n",
      "1/1 [==============================] - 1s 996ms/step - loss: 43845.1562 - mean_absolute_percentage_error: 100.0014\n",
      "11/11 [==============================] - 2s 28ms/step - loss: 40621.7227 - mean_absolute_percentage_error: 99.9962\n",
      "Epoch 1/10\n",
      "1/1 [==============================] - 10s 10s/step - loss: 43845.1133 - mean_absolute_percentage_error: 100.0017\n",
      "Epoch 2/10\n",
      "1/1 [==============================] - 1s 978ms/step - loss: 43845.1328 - mean_absolute_percentage_error: 100.0018\n",
      "Epoch 3/10\n",
      "1/1 [==============================] - 1s 995ms/step - loss: 43845.1016 - mean_absolute_percentage_error: 100.0013\n",
      "Epoch 4/10\n",
      "1/1 [==============================] - 1s 990ms/step - loss: 43845.1328 - mean_absolute_percentage_error: 100.0019\n",
      "Epoch 5/10\n",
      "1/1 [==============================] - 1s 988ms/step - loss: 43845.1211 - mean_absolute_percentage_error: 100.0006\n",
      "Epoch 6/10\n",
      "1/1 [==============================] - 1s 993ms/step - loss: 43845.1367 - mean_absolute_percentage_error: 100.0013\n",
      "Epoch 7/10\n",
      "1/1 [==============================] - 1s 995ms/step - loss: 43845.1094 - mean_absolute_percentage_error: 100.0018\n",
      "Epoch 8/10\n",
      "1/1 [==============================] - 1s 1s/step - loss: 43845.1211 - mean_absolute_percentage_error: 100.0020\n",
      "Epoch 9/10\n",
      "1/1 [==============================] - 1s 1s/step - loss: 43845.1211 - mean_absolute_percentage_error: 100.0005\n",
      "Epoch 10/10\n",
      "1/1 [==============================] - 1s 1s/step - loss: 43845.1094 - mean_absolute_percentage_error: 100.0011\n",
      "11/11 [==============================] - 1s 44ms/step - loss: 40621.8594 - mean_absolute_percentage_error: 99.9937\n",
      "Epoch 1/10\n",
      "1/1 [==============================] - 5s 5s/step - loss: 43845.1367 - mean_absolute_percentage_error: 100.0010\n",
      "Epoch 2/10\n",
      "1/1 [==============================] - 1s 667ms/step - loss: 43845.1445 - mean_absolute_percentage_error: 100.0012\n",
      "Epoch 3/10\n",
      "1/1 [==============================] - 1s 665ms/step - loss: 43845.1484 - mean_absolute_percentage_error: 100.0012\n",
      "Epoch 4/10\n",
      "1/1 [==============================] - 1s 661ms/step - loss: 43845.1445 - mean_absolute_percentage_error: 100.0008\n",
      "Epoch 5/10\n",
      "1/1 [==============================] - 1s 660ms/step - loss: 43845.1289 - mean_absolute_percentage_error: 100.0010\n",
      "Epoch 6/10\n",
      "1/1 [==============================] - 1s 660ms/step - loss: 43845.1211 - mean_absolute_percentage_error: 100.0014\n",
      "Epoch 7/10\n",
      "1/1 [==============================] - 1s 668ms/step - loss: 43845.1484 - mean_absolute_percentage_error: 100.0011\n",
      "Epoch 8/10\n",
      "1/1 [==============================] - 1s 684ms/step - loss: 43845.1367 - mean_absolute_percentage_error: 100.0008\n",
      "Epoch 9/10\n",
      "1/1 [==============================] - 1s 677ms/step - loss: 43845.1484 - mean_absolute_percentage_error: 100.0010\n",
      "Epoch 10/10\n",
      "1/1 [==============================] - 1s 691ms/step - loss: 43845.1211 - mean_absolute_percentage_error: 100.0013\n",
      "11/11 [==============================] - 1s 30ms/step - loss: 40621.7305 - mean_absolute_percentage_error: 99.9960\n",
      "Epoch 1/10\n",
      "1/1 [==============================] - 4s 4s/step - loss: 43845.1914 - mean_absolute_percentage_error: 99.9993\n",
      "Epoch 2/10\n",
      "1/1 [==============================] - 1s 621ms/step - loss: 43845.1992 - mean_absolute_percentage_error: 99.9993\n",
      "Epoch 3/10\n",
      "1/1 [==============================] - 1s 612ms/step - loss: 43845.1914 - mean_absolute_percentage_error: 99.9994\n",
      "Epoch 4/10\n",
      "1/1 [==============================] - 1s 598ms/step - loss: 43845.1797 - mean_absolute_percentage_error: 99.9993\n",
      "Epoch 5/10\n",
      "1/1 [==============================] - 1s 598ms/step - loss: 43845.1953 - mean_absolute_percentage_error: 99.9994\n",
      "Epoch 6/10\n",
      "1/1 [==============================] - 1s 610ms/step - loss: 43845.1914 - mean_absolute_percentage_error: 99.9996\n",
      "Epoch 7/10\n",
      "1/1 [==============================] - 1s 598ms/step - loss: 43845.1953 - mean_absolute_percentage_error: 99.9992\n",
      "Epoch 8/10\n",
      "1/1 [==============================] - 1s 613ms/step - loss: 43845.1953 - mean_absolute_percentage_error: 99.9998\n",
      "Epoch 9/10\n",
      "1/1 [==============================] - 1s 614ms/step - loss: 43845.1953 - mean_absolute_percentage_error: 99.9996\n",
      "Epoch 10/10\n",
      "1/1 [==============================] - 1s 614ms/step - loss: 43845.1914 - mean_absolute_percentage_error: 99.9995\n",
      "11/11 [==============================] - 1s 29ms/step - loss: 40621.4180 - mean_absolute_percentage_error: 100.0018\n",
      "Epoch 1/10\n",
      "1/1 [==============================] - 6s 6s/step - loss: 43845.1953 - mean_absolute_percentage_error: 99.9999\n",
      "Epoch 2/10\n",
      "1/1 [==============================] - 1s 722ms/step - loss: 43845.2188 - mean_absolute_percentage_error: 99.9993\n",
      "Epoch 3/10\n",
      "1/1 [==============================] - 1s 717ms/step - loss: 43845.2188 - mean_absolute_percentage_error: 99.9995\n",
      "Epoch 4/10\n",
      "1/1 [==============================] - 1s 719ms/step - loss: 43845.2070 - mean_absolute_percentage_error: 99.9994\n",
      "Epoch 5/10\n",
      "1/1 [==============================] - 1s 715ms/step - loss: 43845.2070 - mean_absolute_percentage_error: 99.9996\n",
      "Epoch 6/10\n",
      "1/1 [==============================] - 1s 715ms/step - loss: 43845.1875 - mean_absolute_percentage_error: 99.9998\n",
      "Epoch 7/10\n",
      "1/1 [==============================] - 1s 712ms/step - loss: 43845.1953 - mean_absolute_percentage_error: 99.9994\n",
      "Epoch 8/10\n",
      "1/1 [==============================] - 1s 719ms/step - loss: 43845.1953 - mean_absolute_percentage_error: 100.0001\n",
      "Epoch 9/10\n",
      "1/1 [==============================] - 1s 722ms/step - loss: 43845.2188 - mean_absolute_percentage_error: 99.9994\n",
      "Epoch 10/10\n",
      "1/1 [==============================] - 1s 720ms/step - loss: 43845.1914 - mean_absolute_percentage_error: 99.9997\n",
      "11/11 [==============================] - 1s 26ms/step - loss: 40621.3906 - mean_absolute_percentage_error: 100.0023\n",
      "Epoch 1/10\n",
      "1/1 [==============================] - 14s 14s/step - loss: 43844.6172 - mean_absolute_percentage_error: 100.0340\n",
      "Epoch 2/10\n",
      "1/1 [==============================] - 2s 2s/step - loss: 43844.6484 - mean_absolute_percentage_error: 99.9678\n",
      "Epoch 3/10\n",
      "1/1 [==============================] - 2s 2s/step - loss: 43844.2383 - mean_absolute_percentage_error: 100.0170\n",
      "Epoch 4/10\n",
      "1/1 [==============================] - 2s 2s/step - loss: 43846.0859 - mean_absolute_percentage_error: 100.0035\n",
      "Epoch 5/10\n",
      "1/1 [==============================] - 2s 2s/step - loss: 43844.7656 - mean_absolute_percentage_error: 100.0123\n",
      "Epoch 6/10\n",
      "1/1 [==============================] - 2s 2s/step - loss: 43845.4844 - mean_absolute_percentage_error: 100.0266\n",
      "Epoch 7/10\n",
      "1/1 [==============================] - 2s 2s/step - loss: 43845.4609 - mean_absolute_percentage_error: 100.0051\n",
      "Epoch 8/10\n",
      "1/1 [==============================] - 2s 2s/step - loss: 43846.9570 - mean_absolute_percentage_error: 99.9930\n",
      "Epoch 9/10\n",
      "1/1 [==============================] - 2s 2s/step - loss: 43844.7852 - mean_absolute_percentage_error: 99.9973\n",
      "Epoch 10/10\n",
      "1/1 [==============================] - 2s 2s/step - loss: 43844.9141 - mean_absolute_percentage_error: 100.0121\n",
      "11/11 [==============================] - 2s 71ms/step - loss: 40619.1953 - mean_absolute_percentage_error: 100.0430\n",
      "Epoch 1/10\n",
      "1/1 [==============================] - 4s 4s/step - loss: 43846.8398 - mean_absolute_percentage_error: 99.9589\n",
      "Epoch 2/10\n",
      "1/1 [==============================] - 0s 322ms/step - loss: 43847.8125 - mean_absolute_percentage_error: 99.9648\n",
      "Epoch 3/10\n",
      "1/1 [==============================] - 0s 319ms/step - loss: 43846.7930 - mean_absolute_percentage_error: 99.9567\n",
      "Epoch 4/10\n",
      "1/1 [==============================] - 0s 312ms/step - loss: 43846.0312 - mean_absolute_percentage_error: 99.9981\n",
      "Epoch 5/10\n",
      "1/1 [==============================] - 0s 295ms/step - loss: 43845.1406 - mean_absolute_percentage_error: 99.9640\n",
      "Epoch 6/10\n",
      "1/1 [==============================] - 0s 311ms/step - loss: 43845.8281 - mean_absolute_percentage_error: 99.9966\n",
      "Epoch 7/10\n",
      "1/1 [==============================] - 0s 317ms/step - loss: 43846.9492 - mean_absolute_percentage_error: 99.9771\n",
      "Epoch 8/10\n",
      "1/1 [==============================] - 0s 322ms/step - loss: 43846.2461 - mean_absolute_percentage_error: 99.9801\n",
      "Epoch 9/10\n",
      "1/1 [==============================] - 0s 319ms/step - loss: 43847.0312 - mean_absolute_percentage_error: 99.9515\n",
      "Epoch 10/10\n",
      "1/1 [==============================] - 0s 322ms/step - loss: 43846.7109 - mean_absolute_percentage_error: 99.9934\n",
      "11/11 [==============================] - 1s 11ms/step - loss: 40613.8867 - mean_absolute_percentage_error: 100.1397\n",
      "Epoch 1/10\n",
      "1/1 [==============================] - 6s 6s/step - loss: 43848.1367 - mean_absolute_percentage_error: 100.0278\n",
      "Epoch 2/10\n",
      "1/1 [==============================] - 1s 1s/step - loss: 43846.5000 - mean_absolute_percentage_error: 100.0266\n",
      "Epoch 3/10\n",
      "1/1 [==============================] - 1s 1s/step - loss: 43849.2148 - mean_absolute_percentage_error: 100.0329\n",
      "Epoch 4/10\n",
      "1/1 [==============================] - 1s 1s/step - loss: 43848.0703 - mean_absolute_percentage_error: 100.0568\n",
      "Epoch 5/10\n",
      "1/1 [==============================] - 1s 1s/step - loss: 43843.5625 - mean_absolute_percentage_error: 100.0607\n",
      "Epoch 6/10\n",
      "1/1 [==============================] - 1s 1s/step - loss: 43847.9102 - mean_absolute_percentage_error: 100.0079\n",
      "Epoch 7/10\n",
      "1/1 [==============================] - 1s 1s/step - loss: 43847.6523 - mean_absolute_percentage_error: 100.0842\n",
      "Epoch 8/10\n",
      "1/1 [==============================] - 1s 1s/step - loss: 43848.9648 - mean_absolute_percentage_error: 100.0191\n",
      "Epoch 9/10\n",
      "1/1 [==============================] - 1s 1s/step - loss: 43845.5781 - mean_absolute_percentage_error: 100.0028\n",
      "Epoch 10/10\n",
      "1/1 [==============================] - 1s 1s/step - loss: 43848.4102 - mean_absolute_percentage_error: 100.0161\n",
      "11/11 [==============================] - 1s 45ms/step - loss: 40607.1289 - mean_absolute_percentage_error: 100.2689\n",
      "Epoch 1/10\n",
      "1/1 [==============================] - 4s 4s/step - loss: 43845.2344 - mean_absolute_percentage_error: 99.9987\n",
      "Epoch 2/10\n",
      "1/1 [==============================] - 1s 713ms/step - loss: 43845.2344 - mean_absolute_percentage_error: 99.9988\n",
      "Epoch 3/10\n",
      "1/1 [==============================] - 1s 712ms/step - loss: 43845.2344 - mean_absolute_percentage_error: 99.9986\n",
      "Epoch 4/10\n",
      "1/1 [==============================] - 1s 709ms/step - loss: 43845.2461 - mean_absolute_percentage_error: 99.9987\n",
      "Epoch 5/10\n",
      "1/1 [==============================] - 1s 709ms/step - loss: 43845.2109 - mean_absolute_percentage_error: 99.9982\n",
      "Epoch 6/10\n",
      "1/1 [==============================] - 1s 700ms/step - loss: 43845.2344 - mean_absolute_percentage_error: 99.9989\n",
      "Epoch 7/10\n",
      "1/1 [==============================] - 1s 711ms/step - loss: 43845.2227 - mean_absolute_percentage_error: 99.9985\n",
      "Epoch 8/10\n",
      "1/1 [==============================] - 1s 709ms/step - loss: 43845.2305 - mean_absolute_percentage_error: 99.9987\n",
      "Epoch 9/10\n",
      "1/1 [==============================] - 1s 710ms/step - loss: 43845.2344 - mean_absolute_percentage_error: 99.9987\n",
      "Epoch 10/10\n",
      "1/1 [==============================] - 1s 708ms/step - loss: 43845.2266 - mean_absolute_percentage_error: 99.9991\n",
      "11/11 [==============================] - 1s 30ms/step - loss: 40621.2305 - mean_absolute_percentage_error: 100.0053\n",
      "Epoch 1/10\n",
      "1/1 [==============================] - 15s 15s/step - loss: 43839.8789 - mean_absolute_percentage_error: 100.1618\n",
      "Epoch 2/10\n",
      "1/1 [==============================] - 2s 2s/step - loss: 43839.6602 - mean_absolute_percentage_error: 100.1625\n",
      "Epoch 3/10\n",
      "1/1 [==============================] - 2s 2s/step - loss: 43839.8164 - mean_absolute_percentage_error: 100.1661\n",
      "Epoch 4/10\n",
      "1/1 [==============================] - 2s 2s/step - loss: 43839.8672 - mean_absolute_percentage_error: 100.1642\n",
      "Epoch 5/10\n",
      "1/1 [==============================] - 2s 2s/step - loss: 43839.7969 - mean_absolute_percentage_error: 100.1648\n",
      "Epoch 6/10\n",
      "1/1 [==============================] - 2s 2s/step - loss: 43839.8008 - mean_absolute_percentage_error: 100.1647\n",
      "Epoch 7/10\n",
      "1/1 [==============================] - 2s 2s/step - loss: 43839.7930 - mean_absolute_percentage_error: 100.1652\n",
      "Epoch 8/10\n",
      "1/1 [==============================] - 2s 2s/step - loss: 43840.0000 - mean_absolute_percentage_error: 100.1635\n",
      "Epoch 9/10\n",
      "1/1 [==============================] - 2s 2s/step - loss: 43839.5742 - mean_absolute_percentage_error: 100.1657\n",
      "Epoch 10/10\n",
      "1/1 [==============================] - 2s 2s/step - loss: 43839.7500 - mean_absolute_percentage_error: 100.1640\n",
      "11/11 [==============================] - 3s 69ms/step - loss: 40656.4961 - mean_absolute_percentage_error: 99.7141\n"
     ]
    }
   ],
   "source": [
    "p4_solution: Solution = RandomSearch(p4_domain, p4_fitness, search_space_size=5, iterations=2).run()"
   ]
  },
  {
   "attachments": {},
   "cell_type": "markdown",
   "metadata": {
    "collapsed": false
   },
   "source": [
    "Finally, the `p4_solution` is printed."
   ]
  },
  {
   "cell_type": "code",
   "execution_count": 9,
   "metadata": {
    "collapsed": false
   },
   "outputs": [
    {
     "name": "stdout",
     "output_type": "stream",
     "text": [
      "F = 99.71414184570312\t{arch = ['F = 1.7976931348623157e+308\\t{activation = tanh , dropout = 0.08558638183869635 , neurons = 218}', 'F = 1.7976931348623157e+308\\t{activation = sigmoid , dropout = 0.20708328585614044 , neurons = 112}', 'F = 1.7976931348623157e+308\\t{activation = tanh , dropout = 0.38348844257114484 , neurons = 210}', 'F = 1.7976931348623157e+308\\t{activation = sigmoid , dropout = 0.33847986426610444 , neurons = 166}', 'F = 1.7976931348623157e+308\\t{activation = sigmoid , dropout = 0.3828465841819473 , neurons = 137}', 'F = 1.7976931348623157e+308\\t{activation = tanh , dropout = 0.23568220234904635 , neurons = 207}', 'F = 1.7976931348623157e+308\\t{activation = sigmoid , dropout = 0.20107332338948886 , neurons = 34}', 'F = 1.7976931348623157e+308\\t{activation = sigmoid , dropout = 0.17064890862009371 , neurons = 199}', 'F = 1.7976931348623157e+308\\t{activation = sigmoid , dropout = 0.053820944444486235 , neurons = 232}'] , ema = True , learning_rate = 9.124808946416492e-07}\n"
     ]
    }
   ],
   "source": [
    "print(p4_solution)"
   ]
  }
 ],
 "metadata": {
  "kernelspec": {
   "display_name": "Python 3",
   "language": "python",
   "name": "python3"
  },
  "language_info": {
   "codemirror_mode": {
    "name": "ipython",
    "version": 3
   },
   "file_extension": ".py",
   "mimetype": "text/x-python",
   "name": "python",
   "nbconvert_exporter": "python",
   "pygments_lexer": "ipython3",
   "version": "3.10.9"
  }
 },
 "nbformat": 4,
 "nbformat_minor": 0
}
