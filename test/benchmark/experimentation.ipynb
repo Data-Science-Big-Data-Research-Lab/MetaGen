{
 "cells": [
  {
   "cell_type": "code",
   "execution_count": null,
   "metadata": {},
   "outputs": [],
   "source": [
    "from functions import BECHMARK_FUNCTIONS, FUNCTION_RANGES\n",
    "import numpy as np\n",
    "import time\n",
    "import optuna\n",
    "from optuna.samplers import RandomSampler, TPESampler\n",
    "from tqdm.auto import tqdm\n",
    "import pandas as pd\n",
    "from ray import tune\n",
    "from ray.tune.search import BasicVariantGenerator\n",
    "from ray.tune.search.hyperopt import HyperOptSearch\n",
    "from hyperopt import fmin, tpe, rand, hp, Trials\n",
    "from itertools import product\n",
    "from metagen.framework import Domain\n",
    "from metagen.metaheuristics import RandomSearch, TPE\n",
    "import random\n",
    "from copy import deepcopy\n",
    "optuna.logging.set_verbosity(optuna.logging.WARNING)"
   ]
  },
  {
   "cell_type": "code",
   "execution_count": null,
   "metadata": {},
   "outputs": [],
   "source": [
    "ITERATIONS_PER_RUN = 1000\n",
    "\n",
    "\n",
    "def optuna_objective(function_name: str, trial):\n",
    "    x = np.array([trial.suggest_float(f'x{i}', FUNCTION_RANGES[function_name][0], FUNCTION_RANGES[function_name][1]) for i in range(2)])\n",
    "    return BECHMARK_FUNCTIONS[function_name](x)\n",
    "\n",
    "def run_optuna(function_name: str, search_algorithm: str=\"random\", seed: int=0):\n",
    "    random.seed(seed)\n",
    "    np.random.seed(seed)\n",
    "    start_time = time.time()\n",
    "    study = optuna.create_study(direction='minimize', sampler= TPESampler(seed=seed) if search_algorithm==\"tpe\" else RandomSampler(seed=seed))\n",
    "    study.optimize(lambda trial: optuna_objective(function_name, trial), n_trials=ITERATIONS_PER_RUN//2, show_progress_bar=False)\n",
    "    best_values = [t.value for t in study.trials if t.value is not None]\n",
    "\n",
    "    end_time = time.time()\n",
    "\n",
    "    return {\"library\": \"optuna\", \"search_algorithm\": search_algorithm, \"function_name\": function_name, \n",
    "            \"best_value\": study.best_value, \"best_x0\": study.best_params[\"x0\"], \"best_x1\": study.best_params[\"x1\"], \n",
    "            \"time\": end_time - start_time, \"seed\": seed, \"best_values\": deepcopy(best_values)}\n",
    "\n",
    "def hyperopt_objective(params, function_name: str):\n",
    "    x = np.array([params[f'x{i}'] for i in range(2)])\n",
    "    return BECHMARK_FUNCTIONS[function_name](x)\n",
    "\n",
    "def run_hyperopt(function_name: str, search_algorithm: str=\"random\", seed: int=0):\n",
    "    search_space = {f'x{i}': hp.uniform(f'x{i}', FUNCTION_RANGES[function_name][0], FUNCTION_RANGES[function_name][1]) for i in range(2)}\n",
    "\n",
    "    random.seed(seed)\n",
    "    np.random.seed(seed)\n",
    "    \n",
    "    trials = Trials()\n",
    "    start_time = time.time()\n",
    "    best = fmin(\n",
    "        fn=lambda params: hyperopt_objective(params, function_name),\n",
    "        space=search_space,\n",
    "        algo=tpe.suggest if search_algorithm == \"tpe\" else rand.suggest,\n",
    "        max_evals=ITERATIONS_PER_RUN,\n",
    "        trials=trials,\n",
    "        show_progressbar=False,\n",
    "        rstate=np.random.default_rng(seed)\n",
    "    )\n",
    "    end_time = time.time()\n",
    "    \n",
    "    best_loss = min(trials.losses())\n",
    "\n",
    "    \n",
    "    return {\"library\": \"hyperopt\", \"search_algorithm\": search_algorithm, \"function_name\": function_name, \n",
    "            \"best_value\": best_loss, \"best_x0\": best['x0'], \"best_x1\": best['x1'], \n",
    "            \"time\": end_time - start_time, \"seed\": seed, \"best_values\": deepcopy(trials.losses())}\n",
    "\n",
    "def metagen_objective(solution, function_name: str):\n",
    "    x = np.array([solution[f'x{i}'] for i in range(2)])\n",
    "    return BECHMARK_FUNCTIONS[function_name](x)\n",
    "\n",
    "def run_metagen(function_name: str, search_algorithm: str=\"random\", seed: int=0):\n",
    "    random.seed(seed)\n",
    "    np.random.seed(seed)\n",
    "\n",
    "    domain = Domain()\n",
    "    \n",
    "    domain.define_real(f'x0', FUNCTION_RANGES[function_name][0], FUNCTION_RANGES[function_name][1])\n",
    "    domain.define_real(f'x1', FUNCTION_RANGES[function_name][0], FUNCTION_RANGES[function_name][1])\n",
    "\n",
    "    if search_algorithm == \"tpe\":\n",
    "        search = TPE(domain, lambda solution: metagen_objective(solution, function_name), \n",
    "                    candidate_pool_size=ITERATIONS_PER_RUN//(ITERATIONS_PER_RUN//10), \n",
    "                    max_iterations=ITERATIONS_PER_RUN//10)\n",
    "    else:\n",
    "        search = RandomSearch(domain, lambda solution: metagen_objective(solution, function_name), \n",
    "                            population_size=ITERATIONS_PER_RUN//(ITERATIONS_PER_RUN//10), \n",
    "                            max_iterations=ITERATIONS_PER_RUN//10)\n",
    "    \n",
    "    start_time = time.time()\n",
    "    best_solution = search.run()\n",
    "    end_time = time.time()\n",
    "\n",
    "    return {\"library\": \"metagen\", \"search_algorithm\": search_algorithm, \"function_name\": function_name, \n",
    "            \"best_value\": best_solution.get_fitness(), \"best_x0\": best_solution[\"x0\"], \"best_x1\": best_solution[\"x1\"], \n",
    "            \"time\": end_time - start_time, \"seed\": seed, \"best_values\": search.best_solution_fitnesses}\n",
    "\n",
    "def run_multiple_seeds(run_func, function_name: str, search_algorithm: str=\"random\", num_seeds: int=10):\n",
    "    results = []\n",
    "    for seed in range(num_seeds):\n",
    "        result = run_func(function_name, search_algorithm, seed)\n",
    "        results.append(result)\n",
    "    return results"
   ]
  },
  {
   "cell_type": "code",
   "execution_count": null,
   "metadata": {},
   "outputs": [],
   "source": [
    "NUM_SEEDS = 10\n",
    "\n",
    "all_results = []\n",
    "\n",
    "for function_name, library, search_algorithm in tqdm(list(product(list(BECHMARK_FUNCTIONS.keys()), [run_optuna, run_hyperopt, run_metagen], [\"tpe\"])), desc=\"Overall Progress\"):\n",
    "    results = run_multiple_seeds(library, function_name, search_algorithm, NUM_SEEDS)\n",
    "    all_results.extend(results)\n",
    "\n",
    "df = pd.DataFrame(all_results)"
   ]
  },
  {
   "cell_type": "code",
   "execution_count": null,
   "metadata": {},
   "outputs": [],
   "source": [
    "def average_arrays(arrays):\n",
    "    averaged_values = np.mean(np.stack(arrays.values), axis=0)\n",
    "\n",
    "    best_trial_evolution = np.minimum.accumulate(averaged_values)\n",
    "\n",
    "    return best_trial_evolution\n",
    "\n",
    "def calculate_convergence_rate(best_values):\n",
    "    \n",
    "    return sum([(best_values[i+1] - best_values[i])*100 / best_values[i] for i in range(len(best_values) - 1)]) / (len(best_values) -1)\n",
    "\n",
    "averaged_arrays = df.groupby([ \"function_name\", \"library\", \"search_algorithm\"])[\"best_values\"].apply(average_arrays)\n",
    "\n",
    "convergence_rate = averaged_arrays.apply(calculate_convergence_rate)"
   ]
  },
  {
   "cell_type": "code",
   "execution_count": null,
   "metadata": {},
   "outputs": [],
   "source": [
    "#df.to_excel(\"results_raw_v2.xlsx\")"
   ]
  },
  {
   "cell_type": "code",
   "execution_count": null,
   "metadata": {},
   "outputs": [],
   "source": [
    "grouped_metrics = df.groupby([ \"function_name\", \"library\", \"search_algorithm\"]).mean(numeric_only=True)\n",
    "grouped_metrics[\"best_values\"] = averaged_arrays\n",
    "grouped_metrics[\"convergence_rate\"] = convergence_rate"
   ]
  },
  {
   "cell_type": "code",
   "execution_count": null,
   "metadata": {},
   "outputs": [],
   "source": [
    "#grouped_metrics[grouped_metrics.index.get_level_values(2)==\"random\"].to_latex(\"results_random.tex\")\n",
    "grouped_metrics[grouped_metrics.index.get_level_values(2)==\"tpe\"].to_latex(\"results_tpe_v2.tex\")"
   ]
  },
  {
   "cell_type": "code",
   "execution_count": null,
   "metadata": {},
   "outputs": [],
   "source": [
    "import matplotlib.pyplot as plt\n",
    "\n",
    "def reescale_evolution(arr):\n",
    "    n = len(arr) // 10\n",
    "    \n",
    "    min_values = []\n",
    "    \n",
    "    for i in range(n):\n",
    "        chunk = arr[i*10:(i+1)*10]\n",
    "        min_values.append(np.min(chunk))\n",
    "    \n",
    "    if len(arr) % 10 != 0:\n",
    "        min_values.append(np.min(arr[n*10:]))\n",
    "    \n",
    "    return np.array(min_values)\n",
    "\n",
    "for function_name, search_algorithm in product(list(BECHMARK_FUNCTIONS.keys())[:1], [\"random\", \"tpe\"]):\n",
    "\n",
    "    filtered_metrics = grouped_metrics[(grouped_metrics.index.get_level_values(2)==search_algorithm) & (grouped_metrics.index.get_level_values(0)==function_name)]\n",
    "\n",
    "    plt.figure(figsize=(20, 10), tight_layout=True)\n",
    "    plt.title(f'{function_name.capitalize()} - {search_algorithm.capitalize()}', fontdict={'size': 20})\n",
    "    for (function_name, library, search_algorithm), row in filtered_metrics.iterrows():\n",
    "\n",
    "        best_values = row['best_values'] if library == \"metagen\" else reescale_evolution(row['best_values'])\n",
    "\n",
    "\n",
    "        plt.plot(best_values, label=f'{library.capitalize()} ({round(row[\"convergence_rate\"]*100, 2)})', linewidth=2)\n",
    "        plt.xlabel('Iteration', fontdict={'size': 20})\n",
    "        plt.xticks(fontsize=18)\n",
    "        plt.ylabel('Best Value', fontdict={'size': 20})\n",
    "        plt.yticks(fontsize=18)\n",
    "\n",
    "    plt.grid()\n",
    "    plt.legend(fontsize=20)\n",
    "    plt.show()"
   ]
  },
  {
   "cell_type": "code",
   "execution_count": null,
   "metadata": {},
   "outputs": [],
   "source": [
    "np.roll(row['best_values']).shape"
   ]
  },
  {
   "cell_type": "code",
   "execution_count": null,
   "metadata": {},
   "outputs": [],
   "source": [
    "moving_average(row['best_values'], 10)"
   ]
  },
  {
   "cell_type": "code",
   "execution_count": null,
   "metadata": {},
   "outputs": [],
   "source": [
    "row[['best_values']].rolling(10).min()"
   ]
  },
  {
   "cell_type": "code",
   "execution_count": null,
   "metadata": {},
   "outputs": [],
   "source": [
    "import matplotlib.pyplot as plt\n",
    "\n",
    "plt.figure(figsize=(20, 10))\n",
    "# Iterate over each group in the grouped_metrics dataframe\n",
    "for (function_name, library, search_algorithm), row in grouped_metrics[grouped_metrics.index.get_level_values(2)==\"tpe\"].iterrows():\n",
    "    plt.plot(row['best_values'], label=f'{library} - {search_algorithm}')\n",
    "    plt.xlabel('Iteration')\n",
    "    plt.ylabel('Best Value')\n",
    "plt.show()"
   ]
  }
 ],
 "metadata": {
  "kernelspec": {
   "display_name": "metagen",
   "language": "python",
   "name": "python3"
  },
  "language_info": {
   "codemirror_mode": {
    "name": "ipython",
    "version": 3
   },
   "file_extension": ".py",
   "mimetype": "text/x-python",
   "name": "python",
   "nbconvert_exporter": "python",
   "pygments_lexer": "ipython3",
   "version": "3.10.9"
  }
 },
 "nbformat": 4,
 "nbformat_minor": 2
}
